{
 "cells": [
  {
   "cell_type": "code",
   "execution_count": 41,
   "metadata": {},
   "outputs": [],
   "source": [
    "import pandas as pd\n",
    "import numpy as np"
   ]
  },
  {
   "cell_type": "code",
   "execution_count": 44,
   "metadata": {},
   "outputs": [],
   "source": [
    "df = pd.read_csv('(No spotId)travel ratings.csv')\n",
    "travel = pd.read_csv('Travel attractions.csv')"
   ]
  },
  {
   "cell_type": "code",
   "execution_count": 45,
   "metadata": {},
   "outputs": [
    {
     "data": {
      "text/html": [
       "<div>\n",
       "<style scoped>\n",
       "    .dataframe tbody tr th:only-of-type {\n",
       "        vertical-align: middle;\n",
       "    }\n",
       "\n",
       "    .dataframe tbody tr th {\n",
       "        vertical-align: top;\n",
       "    }\n",
       "\n",
       "    .dataframe thead th {\n",
       "        text-align: right;\n",
       "    }\n",
       "</style>\n",
       "<table border=\"1\" class=\"dataframe\">\n",
       "  <thead>\n",
       "    <tr style=\"text-align: right;\">\n",
       "      <th></th>\n",
       "      <th>experience_month</th>\n",
       "      <th>experience_year</th>\n",
       "      <th>location</th>\n",
       "      <th>name</th>\n",
       "      <th>rating</th>\n",
       "      <th>review_body</th>\n",
       "      <th>review_head</th>\n",
       "      <th>trip_type</th>\n",
       "      <th>user_location</th>\n",
       "      <th>username</th>\n",
       "      <th>write_date</th>\n",
       "    </tr>\n",
       "  </thead>\n",
       "  <tbody>\n",
       "    <tr>\n",
       "      <th>0</th>\n",
       "      <td>March</td>\n",
       "      <td>2020.0</td>\n",
       "      <td>Siriraj Medical Museum</td>\n",
       "      <td>JING</td>\n",
       "      <td>3.0</td>\n",
       "      <td>This is just a common medical museum. I think ...</td>\n",
       "      <td>Not worth a visit</td>\n",
       "      <td>Traveled as a couple</td>\n",
       "      <td>Beijing, China</td>\n",
       "      <td>B1659GO_</td>\n",
       "      <td>Mar 2020</td>\n",
       "    </tr>\n",
       "    <tr>\n",
       "      <th>1</th>\n",
       "      <td>February</td>\n",
       "      <td>2020.0</td>\n",
       "      <td>Siriraj Medical Museum</td>\n",
       "      <td>Robert Forbes</td>\n",
       "      <td>5.0</td>\n",
       "      <td>Interesting museums and different to any museu...</td>\n",
       "      <td>Pathology museum</td>\n",
       "      <td>NaN</td>\n",
       "      <td>Melton Mowbray, United Kingdom</td>\n",
       "      <td>robertforbes18</td>\n",
       "      <td>Feb 2020</td>\n",
       "    </tr>\n",
       "    <tr>\n",
       "      <th>2</th>\n",
       "      <td>January</td>\n",
       "      <td>2020.0</td>\n",
       "      <td>Siriraj Medical Museum</td>\n",
       "      <td>Herwin e</td>\n",
       "      <td>4.0</td>\n",
       "      <td>I thought this would be such a creepy journey ...</td>\n",
       "      <td>Whoaaa</td>\n",
       "      <td>Traveled with friends</td>\n",
       "      <td>NaN</td>\n",
       "      <td>herwine2019</td>\n",
       "      <td>Feb 2020</td>\n",
       "    </tr>\n",
       "    <tr>\n",
       "      <th>3</th>\n",
       "      <td>December</td>\n",
       "      <td>2019.0</td>\n",
       "      <td>Siriraj Medical Museum</td>\n",
       "      <td>josephpA9806WL</td>\n",
       "      <td>1.0</td>\n",
       "      <td>Please learn from my experience and don't both...</td>\n",
       "      <td>Absolute waste of time.</td>\n",
       "      <td>NaN</td>\n",
       "      <td>Cary, North Carolina</td>\n",
       "      <td>josephpA9806WL</td>\n",
       "      <td>Feb 2020</td>\n",
       "    </tr>\n",
       "    <tr>\n",
       "      <th>4</th>\n",
       "      <td>December</td>\n",
       "      <td>2019.0</td>\n",
       "      <td>Siriraj Medical Museum</td>\n",
       "      <td>rachelchinyk</td>\n",
       "      <td>5.0</td>\n",
       "      <td>Very insightful and an eye opener. Worth the v...</td>\n",
       "      <td>Visit to Siriraj museum</td>\n",
       "      <td>Traveled with family</td>\n",
       "      <td>NaN</td>\n",
       "      <td>rachelchinyk</td>\n",
       "      <td>Jan 2020</td>\n",
       "    </tr>\n",
       "  </tbody>\n",
       "</table>\n",
       "</div>"
      ],
      "text/plain": [
       "  experience_month  experience_year                location            name  \\\n",
       "0            March           2020.0  Siriraj Medical Museum            JING   \n",
       "1         February           2020.0  Siriraj Medical Museum   Robert Forbes   \n",
       "2          January           2020.0  Siriraj Medical Museum        Herwin e   \n",
       "3         December           2019.0  Siriraj Medical Museum  josephpA9806WL   \n",
       "4         December           2019.0  Siriraj Medical Museum    rachelchinyk   \n",
       "\n",
       "   rating                                        review_body  \\\n",
       "0     3.0  This is just a common medical museum. I think ...   \n",
       "1     5.0  Interesting museums and different to any museu...   \n",
       "2     4.0  I thought this would be such a creepy journey ...   \n",
       "3     1.0  Please learn from my experience and don't both...   \n",
       "4     5.0  Very insightful and an eye opener. Worth the v...   \n",
       "\n",
       "               review_head              trip_type  \\\n",
       "0       Not worth a visit    Traveled as a couple   \n",
       "1         Pathology museum                    NaN   \n",
       "2                   Whoaaa  Traveled with friends   \n",
       "3  Absolute waste of time.                    NaN   \n",
       "4  Visit to Siriraj museum   Traveled with family   \n",
       "\n",
       "                    user_location        username write_date  \n",
       "0                  Beijing, China        B1659GO_   Mar 2020  \n",
       "1  Melton Mowbray, United Kingdom  robertforbes18   Feb 2020  \n",
       "2                             NaN     herwine2019   Feb 2020  \n",
       "3            Cary, North Carolina  josephpA9806WL   Feb 2020  \n",
       "4                             NaN    rachelchinyk   Jan 2020  "
      ]
     },
     "execution_count": 45,
     "metadata": {},
     "output_type": "execute_result"
    }
   ],
   "source": [
    "df.head()"
   ]
  },
  {
   "cell_type": "code",
   "execution_count": 46,
   "metadata": {},
   "outputs": [
    {
     "name": "stdout",
     "output_type": "stream",
     "text": [
      "<class 'pandas.core.frame.DataFrame'>\n",
      "RangeIndex: 149474 entries, 0 to 149473\n",
      "Data columns (total 11 columns):\n",
      "experience_month    145251 non-null object\n",
      "experience_year     145251 non-null float64\n",
      "location            149474 non-null object\n",
      "name                149474 non-null object\n",
      "rating              149474 non-null float64\n",
      "review_body         149474 non-null object\n",
      "review_head         149474 non-null object\n",
      "trip_type           120889 non-null object\n",
      "user_location       129623 non-null object\n",
      "username            149343 non-null object\n",
      "write_date          149474 non-null object\n",
      "dtypes: float64(2), object(9)\n",
      "memory usage: 12.5+ MB\n"
     ]
    }
   ],
   "source": [
    "# 145251 row\n",
    "df.info()"
   ]
  },
  {
   "cell_type": "code",
   "execution_count": 47,
   "metadata": {
    "scrolled": true
   },
   "outputs": [
    {
     "data": {
      "text/plain": [
       "array(['Siriraj Medical Museum', 'Central World', 'Baiyoke Sky Tower',\n",
       "       'Madame Tussauds Bangkok', 'Calypso Cabaret',\n",
       "       'Temple of the Emerald Buddha (Wat Phra Kaew)',\n",
       "       'Damnoen Saduak Floating Market ', 'Benjasiri Park',\n",
       "       'Siam Paragon', 'Train Night Market Ratchada',\n",
       "       'The National Museum & Wang Na Palace ', 'King Power Mahanakhon ',\n",
       "       'Dream World', 'Soi Cowboy ', 'SEA LIFE Bangkok Ocean World',\n",
       "       'Wat Benchamabophit (The Marble Temple)', 'Sukhumvit',\n",
       "       'Museum of Contemporary Art (MOCA)', 'Chao Phraya River ',\n",
       "       'Jim Thompson house ', 'Wat Bowonniwet Vihara', 'Safari World',\n",
       "       'Wat Phra Chetuphon (Wat Pho)',\n",
       "       'Erawan Shrine (Thao Mahaprom Shrine) ', 'Patpong Night Market',\n",
       "       'Lumpini park ', 'Terminal 21', 'Pantip Plaza',\n",
       "       'Taling Chan Floating Market',\n",
       "       'Snake Farm (Queen Saovabha Memorial Institute)',\n",
       "       'Chinatown - Bangkok (Yaowarat Road)', 'Siam AMAZING Park',\n",
       "       'The Grand Palace', 'Siam Niramit Show', 'KhaoSan Road',\n",
       "       'Bangkok Art and Culture Center ', 'Chatuchak weekend market ',\n",
       "       'Emporium Bangkok and EmQuartier Bangkok',\n",
       "       'MBK Center (Ma Boon Khrong Center)', 'IconSiam',\n",
       "       'Rajadamnern Thai Boxing Stadium', 'Platinum Fashion Mall',\n",
       "       'Pratunam Market', 'ASIATIQUE The Riverfront',\n",
       "       'Art in Paradise Bangkok', 'Flow House Bangkok',\n",
       "       'Samutprakan Crocodile Farm and Zoo', 'Wat Suthat ',\n",
       "       'Temple of Dawn (Wat Arun)',\n",
       "       'Temple of the Golden Buddha (Wat Traimit)'], dtype=object)"
      ]
     },
     "execution_count": 47,
     "metadata": {},
     "output_type": "execute_result"
    }
   ],
   "source": [
    "# 50 สถานที่\n",
    "df['location'].unique()"
   ]
  },
  {
   "cell_type": "code",
   "execution_count": 56,
   "metadata": {},
   "outputs": [
    {
     "data": {
      "text/plain": [
       "array(['Siriraj Medical Museum', 'Central World', 'Baiyoke Sky Tower',\n",
       "       'Madame Tussauds Bangkok', 'Calypso Cabaret',\n",
       "       'Temple of the Emerald Buddha (Wat Phra Kaew)',\n",
       "       'Damnoen Saduak Floating Market ', 'Benjasiri Park',\n",
       "       'Siam Paragon', 'Train Night Market Ratchada',\n",
       "       'The National Museum & Wang Na Palace ', 'King Power Mahanakhon ',\n",
       "       'Dream World', 'Soi Cowboy ', 'SEA LIFE Bangkok Ocean World',\n",
       "       'Wat Benchamabophit (The Marble Temple)', 'Sukhumvit',\n",
       "       'Museum of Contemporary Art (MOCA)', 'Chao Phraya River ',\n",
       "       'Jim Thompson house ', 'Wat Bowonniwet Vihara', 'Safari World',\n",
       "       'Wat Phra Chetuphon (Wat Pho)',\n",
       "       'Erawan Shrine (Thao Mahaprom Shrine) ', 'Patpong Night Market',\n",
       "       'Lumpini park ', 'Terminal 21', 'Pantip Plaza',\n",
       "       'Taling Chan Floating Market',\n",
       "       'Snake Farm (Queen Saovabha Memorial Institute)',\n",
       "       'Chinatown - Bangkok (Yaowarat Road)', 'Siam AMAZING Park',\n",
       "       'The Grand Palace', 'Siam Niramit Show', 'KhaoSan Road',\n",
       "       'Bangkok Art and Culture Center ', 'Chatuchak weekend market ',\n",
       "       'Emporium Bangkok and EmQuartier Bangkok',\n",
       "       'MBK Center (Ma Boon Khrong Center)', 'IconSiam',\n",
       "       'Rajadamnern Thai Boxing Stadium', 'Platinum Fashion Mall',\n",
       "       'Pratunam Market', 'ASIATIQUE The Riverfront',\n",
       "       'Art in Paradise Bangkok', 'Flow House Bangkok',\n",
       "       'Samutprakan Crocodile Farm and Zoo', 'Wat Suthat ',\n",
       "       'Temple of Dawn (Wat Arun)',\n",
       "       'Temple of the Golden Buddha (Wat Traimit)'], dtype=object)"
      ]
     },
     "execution_count": 56,
     "metadata": {},
     "output_type": "execute_result"
    }
   ],
   "source": [
    "df['location'].unique()"
   ]
  },
  {
   "cell_type": "code",
   "execution_count": 18,
   "metadata": {},
   "outputs": [
    {
     "data": {
      "text/html": [
       "<div>\n",
       "<style scoped>\n",
       "    .dataframe tbody tr th:only-of-type {\n",
       "        vertical-align: middle;\n",
       "    }\n",
       "\n",
       "    .dataframe tbody tr th {\n",
       "        vertical-align: top;\n",
       "    }\n",
       "\n",
       "    .dataframe thead th {\n",
       "        text-align: right;\n",
       "    }\n",
       "</style>\n",
       "<table border=\"1\" class=\"dataframe\">\n",
       "  <thead>\n",
       "    <tr style=\"text-align: right;\">\n",
       "      <th></th>\n",
       "      <th>spotId</th>\n",
       "      <th>title</th>\n",
       "      <th>genres</th>\n",
       "      <th>overview</th>\n",
       "    </tr>\n",
       "  </thead>\n",
       "  <tbody>\n",
       "    <tr>\n",
       "      <th>0</th>\n",
       "      <td>1</td>\n",
       "      <td>Temple of the Emerald Buddha (Wat Phra Kaew)</td>\n",
       "      <td>Relax|Convenience|GoodView|Local|Accommodation...</td>\n",
       "      <td>Temple of the Emerald Buddha is regarded as th...</td>\n",
       "    </tr>\n",
       "    <tr>\n",
       "      <th>1</th>\n",
       "      <td>2</td>\n",
       "      <td>Wat Phra Chetuphon (Wat Pho)</td>\n",
       "      <td>Relax|Convenience|GoodView|Local|Accommodation...</td>\n",
       "      <td>The temple is first on the list of six temples...</td>\n",
       "    </tr>\n",
       "    <tr>\n",
       "      <th>2</th>\n",
       "      <td>3</td>\n",
       "      <td>Temple of Dawn (Wat Arun)</td>\n",
       "      <td>Relax|Convenience|GoodView|Local|Accommodation...</td>\n",
       "      <td>Wat Arun is a Buddhist temple in Bangkok Yai d...</td>\n",
       "    </tr>\n",
       "    <tr>\n",
       "      <th>3</th>\n",
       "      <td>4</td>\n",
       "      <td>Temple of the Golden Buddha (Wat Traimit)</td>\n",
       "      <td>Relax|Convenience|GoodView|Local|Accommodation...</td>\n",
       "      <td>The Golden Buddha commonly known in Thai as Ph...</td>\n",
       "    </tr>\n",
       "    <tr>\n",
       "      <th>4</th>\n",
       "      <td>5</td>\n",
       "      <td>Wat Suthat</td>\n",
       "      <td>Relax|Convenience|GoodView|Local|Accommodation...</td>\n",
       "      <td>Wat Suthat is a Buddhist temple in Bangkok, Th...</td>\n",
       "    </tr>\n",
       "  </tbody>\n",
       "</table>\n",
       "</div>"
      ],
      "text/plain": [
       "   spotId                                         title  \\\n",
       "0       1  Temple of the Emerald Buddha (Wat Phra Kaew)   \n",
       "1       2                  Wat Phra Chetuphon (Wat Pho)   \n",
       "2       3                     Temple of Dawn (Wat Arun)   \n",
       "3       4     Temple of the Golden Buddha (Wat Traimit)   \n",
       "4       5                                   Wat Suthat    \n",
       "\n",
       "                                              genres  \\\n",
       "0  Relax|Convenience|GoodView|Local|Accommodation...   \n",
       "1  Relax|Convenience|GoodView|Local|Accommodation...   \n",
       "2  Relax|Convenience|GoodView|Local|Accommodation...   \n",
       "3  Relax|Convenience|GoodView|Local|Accommodation...   \n",
       "4  Relax|Convenience|GoodView|Local|Accommodation...   \n",
       "\n",
       "                                            overview  \n",
       "0  Temple of the Emerald Buddha is regarded as th...  \n",
       "1  The temple is first on the list of six temples...  \n",
       "2  Wat Arun is a Buddhist temple in Bangkok Yai d...  \n",
       "3  The Golden Buddha commonly known in Thai as Ph...  \n",
       "4  Wat Suthat is a Buddhist temple in Bangkok, Th...  "
      ]
     },
     "execution_count": 18,
     "metadata": {},
     "output_type": "execute_result"
    }
   ],
   "source": [
    "travel.head()"
   ]
  },
  {
   "cell_type": "code",
   "execution_count": 22,
   "metadata": {},
   "outputs": [],
   "source": [
    "# Fill spotId to rating file\n",
    "filled_df = df.merge(travel , left_on = 'location', right_on ='title')"
   ]
  },
  {
   "cell_type": "code",
   "execution_count": 40,
   "metadata": {},
   "outputs": [
    {
     "data": {
      "text/plain": [
       "gordonj258          55\n",
       "nellielim           52\n",
       "7SE3                45\n",
       "Mr_Nobody_1979      41\n",
       "Leonj59             33\n",
       "goingwalkabout      32\n",
       "WillGrace2013       31\n",
       "588phis             31\n",
       "Lulufluff           30\n",
       "inijack             30\n",
       "rangoonr2016        30\n",
       "CharnP_13           29\n",
       "ch_smartie          27\n",
       "Kachipata           27\n",
       "DonC181             27\n",
       "issa81              26\n",
       "georgiovalentino    26\n",
       "500dank             25\n",
       "Christmate11        25\n",
       "MulleEllum          24\n",
       "Name: username, dtype: int64"
      ]
     },
     "execution_count": 40,
     "metadata": {},
     "output_type": "execute_result"
    }
   ],
   "source": [
    "filled_df.username.value_counts().head(20)"
   ]
  },
  {
   "cell_type": "code",
   "execution_count": 30,
   "metadata": {},
   "outputs": [],
   "source": [
    "filled_df.to_csv('travel_ratings.csv',index = False, encoding='utf-8-sig')"
   ]
  },
  {
   "cell_type": "code",
   "execution_count": 59,
   "metadata": {},
   "outputs": [],
   "source": [
    "rating = pd.read_csv('travel_ratings.csv')\n",
    "rating = rating.drop_duplicates()\n",
    "rating = rating.dropna(subset = ['username'])"
   ]
  },
  {
   "cell_type": "code",
   "execution_count": 72,
   "metadata": {},
   "outputs": [
    {
     "data": {
      "text/plain": [
       "experience_month        12\n",
       "experience_year         12\n",
       "location                50\n",
       "name                 70297\n",
       "rating                   5\n",
       "review_body         146597\n",
       "review_head         106263\n",
       "trip_type                5\n",
       "user_location        11958\n",
       "username             77985\n",
       "write_date             295\n",
       "spotId                  50\n",
       "title                   50\n",
       "genres                  36\n",
       "overview                50\n",
       "dtype: int64"
      ]
     },
     "execution_count": 72,
     "metadata": {},
     "output_type": "execute_result"
    }
   ],
   "source": [
    "rating.nunique()"
   ]
  },
  {
   "cell_type": "code",
   "execution_count": 68,
   "metadata": {},
   "outputs": [
    {
     "data": {
      "text/plain": [
       "<pandas.core.groupby.generic.DataFrameGroupBy object at 0x7fe7974b8690>"
      ]
     },
     "execution_count": 68,
     "metadata": {},
     "output_type": "execute_result"
    }
   ],
   "source": []
  },
  {
   "cell_type": "code",
   "execution_count": null,
   "metadata": {},
   "outputs": [],
   "source": []
  }
 ],
 "metadata": {
  "kernelspec": {
   "display_name": "Python 3",
   "language": "python",
   "name": "python3"
  },
  "language_info": {
   "codemirror_mode": {
    "name": "ipython",
    "version": 3
   },
   "file_extension": ".py",
   "mimetype": "text/x-python",
   "name": "python",
   "nbconvert_exporter": "python",
   "pygments_lexer": "ipython3",
   "version": "3.7.6"
  }
 },
 "nbformat": 4,
 "nbformat_minor": 2
}
